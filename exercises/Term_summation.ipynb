{
 "cells": [
  {
   "cell_type": "markdown",
   "metadata": {},
   "source": [
    "# Start\n",
    "## Description\n",
    "\n",
    "Given an array of integers, find all combinations of 3 integers that add to 0\n",
    "## Examples:\n",
    " [-1, 0, 1, 2, -1, -4] should return [[-1, -1, 2], [-1, 0, 1]]\n",
    " [-2,0,0,0,5,1,1,2,2,2] should return [[-2, 0, 2], [-2, 1, 1], [0, 0, 0]]\n",
    " ## First test\n",
    " I start by setting up a test wich tells me the basic output i want where the\n",
    " number of combinations equals 1 (from there i figure out case n)."
   ]
  },
  {
   "cell_type": "code",
   "execution_count": 18,
   "metadata": {},
   "outputs": [],
   "source": [
    "\n",
    "def addingEquals(arr, function):\n",
    "    if(function(arr) == 0 and len(arr) == 3):\n",
    "        return True;\n",
    "    \n",
    "    else:  \n",
    "        return False;\n",
    "\n"
   ]
  },
  {
   "cell_type": "markdown",
   "metadata": {},
   "source": [
    "## solution for case n = 1"
   ]
  },
  {
   "cell_type": "code",
   "execution_count": 11,
   "metadata": {},
   "outputs": [
    {
     "name": "stdout",
     "output_type": "stream",
     "text": [
      "{(0, -1, 1), (-1, -1, 2), (-2, 1, 1), (1, -2, 1), (2, -1, -1), (0, 2, -2), (-2, 0, 2), (1, 0, -1), (2, 0, -2), (-1, 1, 0), (1, -1, 0), (2, -2, 0), (-1, 0, 1), (-1, 2, -1), (0, 0, 0), (0, 1, -1), (0, -2, 2), (-2, 2, 0), (1, 1, -2)}\n"
     ]
    }
   ],
   "source": [
    "\n",
    "arr = [-2,-1,0,1,2];\n",
    "\n",
    "def findSolution(values):\n",
    "    foundSolution = [];\n",
    "    for i in values:\n",
    "        for j in values:\n",
    "            for k in values:\n",
    "                if(values[i]+values[j]+values[k]==0):\n",
    "                    foundSolution.append((values[i],values[j],values[k]));\n",
    "                        \n",
    "    return foundSolution;\n",
    "\n",
    "print(findSolution(arr))        \n",
    "\n"
   ]
  },
  {
   "cell_type": "markdown",
   "metadata": {},
   "source": [
    "### Result discussion\n",
    "Found all possible permutations that give the output still this solution is not\n",
    "the most optimal and still requires to take out the combinations(order does\n",
    "not matter for combinations) theres also a disconnect from the test written."
   ]
  },
  {
   "cell_type": "markdown",
   "metadata": {},
   "source": [
    "# 16/08/2020 proposed solution"
   ]
  },
  {
   "cell_type": "code",
   "execution_count": 21,
   "metadata": {},
   "outputs": [
    {
     "name": "stdout",
     "output_type": "stream",
     "text": [
      "[[0, -2, 2], [-8, 5, 3], [-8, 2, 6], [2, 6, -8], [-4, 0, 4], [-4, 1, 3], [-4, 0, 4], [-4, 1, 3], [2, 6, -8], [-4, 0, 4], [-4, 1, 3], [2, 6, -8]]\n"
     ]
    }
   ],
   "source": [
    "arr = [-2,-1,-9,-4,-2,2,1,5,3,4,6,0,4,3,2,5,1,3,2,6,53,52,5,1,23,4,6,-8,-2,-9,0];\n",
    "\n",
    "def solved(inputArr):\n",
    "    solution = [];\n",
    "    for i in inputArr:\n",
    "        for j in range(i-1,len(inputArr)-1):\n",
    "            if(inputArr[i]+inputArr[j]+inputArr[j+1]==0):\n",
    "                solution.append([inputArr[i],inputArr[j],inputArr[j+1]]);\n",
    "    return solution;\n",
    "print(solved(arr));\n"
   ]
  },
  {
   "cell_type": "code",
   "execution_count": null,
   "metadata": {},
   "outputs": [],
   "source": []
  },
  {
   "cell_type": "code",
   "execution_count": null,
   "metadata": {},
   "outputs": [],
   "source": []
  }
 ],
 "metadata": {
  "kernelspec": {
   "display_name": "Python 3",
   "language": "python",
   "name": "python3"
  },
  "language_info": {
   "codemirror_mode": {
    "name": "ipython",
    "version": 3
   },
   "file_extension": ".py",
   "mimetype": "text/x-python",
   "name": "python",
   "nbconvert_exporter": "python",
   "pygments_lexer": "ipython3",
   "version": "3.8.3"
  }
 },
 "nbformat": 4,
 "nbformat_minor": 4
}
